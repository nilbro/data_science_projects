{
 "cells": [
  {
   "cell_type": "markdown",
   "metadata": {},
   "source": [
    "#### import required libraries"
   ]
  },
  {
   "cell_type": "code",
   "execution_count": 55,
   "metadata": {},
   "outputs": [
    {
     "name": "stdout",
     "output_type": "stream",
     "text": [
      "Populating the interactive namespace from numpy and matplotlib\n"
     ]
    }
   ],
   "source": [
    "%pylab inline\n",
    "import pandas\n",
    "import seaborn"
   ]
  },
  {
   "cell_type": "markdown",
   "metadata": {},
   "source": [
    "#### load csv into memory"
   ]
  },
  {
   "cell_type": "code",
   "execution_count": 4,
   "metadata": {},
   "outputs": [],
   "source": [
    "data = pandas.read_csv('uber-raw-data-jul14.csv')"
   ]
  },
  {
   "cell_type": "markdown",
   "metadata": {},
   "source": [
    "#### using map to apply a function to a set of data \n",
    "#### pandas.to_datetime converts string to python datetime"
   ]
  },
  {
   "cell_type": "code",
   "execution_count": 9,
   "metadata": {},
   "outputs": [
    {
     "data": {
      "text/html": [
       "<div>\n",
       "<style scoped>\n",
       "    .dataframe tbody tr th:only-of-type {\n",
       "        vertical-align: middle;\n",
       "    }\n",
       "\n",
       "    .dataframe tbody tr th {\n",
       "        vertical-align: top;\n",
       "    }\n",
       "\n",
       "    .dataframe thead th {\n",
       "        text-align: right;\n",
       "    }\n",
       "</style>\n",
       "<table border=\"1\" class=\"dataframe\">\n",
       "  <thead>\n",
       "    <tr style=\"text-align: right;\">\n",
       "      <th></th>\n",
       "      <th>Date/Time</th>\n",
       "      <th>Lat</th>\n",
       "      <th>Lon</th>\n",
       "      <th>Base</th>\n",
       "    </tr>\n",
       "  </thead>\n",
       "  <tbody>\n",
       "    <tr>\n",
       "      <th>796116</th>\n",
       "      <td>7/31/2014 23:22:00</td>\n",
       "      <td>40.7285</td>\n",
       "      <td>-73.9846</td>\n",
       "      <td>B02764</td>\n",
       "    </tr>\n",
       "    <tr>\n",
       "      <th>796117</th>\n",
       "      <td>7/31/2014 23:23:00</td>\n",
       "      <td>40.7615</td>\n",
       "      <td>-73.9868</td>\n",
       "      <td>B02764</td>\n",
       "    </tr>\n",
       "    <tr>\n",
       "      <th>796118</th>\n",
       "      <td>7/31/2014 23:29:00</td>\n",
       "      <td>40.6770</td>\n",
       "      <td>-73.9515</td>\n",
       "      <td>B02764</td>\n",
       "    </tr>\n",
       "    <tr>\n",
       "      <th>796119</th>\n",
       "      <td>7/31/2014 23:30:00</td>\n",
       "      <td>40.7225</td>\n",
       "      <td>-74.0038</td>\n",
       "      <td>B02764</td>\n",
       "    </tr>\n",
       "    <tr>\n",
       "      <th>796120</th>\n",
       "      <td>7/31/2014 23:58:00</td>\n",
       "      <td>40.7199</td>\n",
       "      <td>-73.9884</td>\n",
       "      <td>B02764</td>\n",
       "    </tr>\n",
       "  </tbody>\n",
       "</table>\n",
       "</div>"
      ],
      "text/plain": [
       "                 Date/Time      Lat      Lon    Base\n",
       "796116  7/31/2014 23:22:00  40.7285 -73.9846  B02764\n",
       "796117  7/31/2014 23:23:00  40.7615 -73.9868  B02764\n",
       "796118  7/31/2014 23:29:00  40.6770 -73.9515  B02764\n",
       "796119  7/31/2014 23:30:00  40.7225 -74.0038  B02764\n",
       "796120  7/31/2014 23:58:00  40.7199 -73.9884  B02764"
      ]
     },
     "execution_count": 9,
     "metadata": {},
     "output_type": "execute_result"
    }
   ],
   "source": [
    "data.tail()"
   ]
  },
  {
   "cell_type": "code",
   "execution_count": 19,
   "metadata": {},
   "outputs": [],
   "source": [
    "data['Date/Time'] = data['Date/Time'].map(pandas.to_datetime)"
   ]
  },
  {
   "cell_type": "code",
   "execution_count": 22,
   "metadata": {},
   "outputs": [
    {
     "data": {
      "text/html": [
       "<div>\n",
       "<style scoped>\n",
       "    .dataframe tbody tr th:only-of-type {\n",
       "        vertical-align: middle;\n",
       "    }\n",
       "\n",
       "    .dataframe tbody tr th {\n",
       "        vertical-align: top;\n",
       "    }\n",
       "\n",
       "    .dataframe thead th {\n",
       "        text-align: right;\n",
       "    }\n",
       "</style>\n",
       "<table border=\"1\" class=\"dataframe\">\n",
       "  <thead>\n",
       "    <tr style=\"text-align: right;\">\n",
       "      <th></th>\n",
       "      <th>Date/Time</th>\n",
       "      <th>Lat</th>\n",
       "      <th>Lon</th>\n",
       "      <th>Base</th>\n",
       "    </tr>\n",
       "  </thead>\n",
       "  <tbody>\n",
       "    <tr>\n",
       "      <th>796116</th>\n",
       "      <td>2014-07-31 23:22:00</td>\n",
       "      <td>40.7285</td>\n",
       "      <td>-73.9846</td>\n",
       "      <td>B02764</td>\n",
       "    </tr>\n",
       "    <tr>\n",
       "      <th>796117</th>\n",
       "      <td>2014-07-31 23:23:00</td>\n",
       "      <td>40.7615</td>\n",
       "      <td>-73.9868</td>\n",
       "      <td>B02764</td>\n",
       "    </tr>\n",
       "    <tr>\n",
       "      <th>796118</th>\n",
       "      <td>2014-07-31 23:29:00</td>\n",
       "      <td>40.6770</td>\n",
       "      <td>-73.9515</td>\n",
       "      <td>B02764</td>\n",
       "    </tr>\n",
       "    <tr>\n",
       "      <th>796119</th>\n",
       "      <td>2014-07-31 23:30:00</td>\n",
       "      <td>40.7225</td>\n",
       "      <td>-74.0038</td>\n",
       "      <td>B02764</td>\n",
       "    </tr>\n",
       "    <tr>\n",
       "      <th>796120</th>\n",
       "      <td>2014-07-31 23:58:00</td>\n",
       "      <td>40.7199</td>\n",
       "      <td>-73.9884</td>\n",
       "      <td>B02764</td>\n",
       "    </tr>\n",
       "  </tbody>\n",
       "</table>\n",
       "</div>"
      ],
      "text/plain": [
       "                 Date/Time      Lat      Lon    Base\n",
       "796116 2014-07-31 23:22:00  40.7285 -73.9846  B02764\n",
       "796117 2014-07-31 23:23:00  40.7615 -73.9868  B02764\n",
       "796118 2014-07-31 23:29:00  40.6770 -73.9515  B02764\n",
       "796119 2014-07-31 23:30:00  40.7225 -74.0038  B02764\n",
       "796120 2014-07-31 23:58:00  40.7199 -73.9884  B02764"
      ]
     },
     "execution_count": 22,
     "metadata": {},
     "output_type": "execute_result"
    }
   ],
   "source": [
    "data.tail()"
   ]
  },
  {
   "cell_type": "code",
   "execution_count": 25,
   "metadata": {},
   "outputs": [
    {
     "data": {
      "text/plain": [
       "Timestamp('2014-07-01 00:03:00')"
      ]
     },
     "execution_count": 25,
     "metadata": {},
     "output_type": "execute_result"
    }
   ],
   "source": [
    "data['Date/Time'][0]"
   ]
  },
  {
   "cell_type": "code",
   "execution_count": 26,
   "metadata": {},
   "outputs": [],
   "source": [
    "def get_dayofmonth(dt):\n",
    "    return dt.day\n",
    "data['dom'] = data['Date/Time'].map(get_dayofmonth)"
   ]
  },
  {
   "cell_type": "code",
   "execution_count": 31,
   "metadata": {},
   "outputs": [],
   "source": [
    "def get_weekday(dt):\n",
    "    return dt.dayofweek\n",
    "data['dow'] = data['Date/Time'].map(get_weekday)\n",
    "\n",
    "def get_hour(dt):\n",
    "    return dt.hour\n",
    "data['hour'] = data['Date/Time'].map(get_hour)\n"
   ]
  },
  {
   "cell_type": "code",
   "execution_count": 32,
   "metadata": {
    "scrolled": true
   },
   "outputs": [
    {
     "data": {
      "text/html": [
       "<div>\n",
       "<style scoped>\n",
       "    .dataframe tbody tr th:only-of-type {\n",
       "        vertical-align: middle;\n",
       "    }\n",
       "\n",
       "    .dataframe tbody tr th {\n",
       "        vertical-align: top;\n",
       "    }\n",
       "\n",
       "    .dataframe thead th {\n",
       "        text-align: right;\n",
       "    }\n",
       "</style>\n",
       "<table border=\"1\" class=\"dataframe\">\n",
       "  <thead>\n",
       "    <tr style=\"text-align: right;\">\n",
       "      <th></th>\n",
       "      <th>Date/Time</th>\n",
       "      <th>Lat</th>\n",
       "      <th>Lon</th>\n",
       "      <th>Base</th>\n",
       "      <th>dom</th>\n",
       "      <th>dow</th>\n",
       "      <th>hour</th>\n",
       "    </tr>\n",
       "  </thead>\n",
       "  <tbody>\n",
       "    <tr>\n",
       "      <th>796116</th>\n",
       "      <td>2014-07-31 23:22:00</td>\n",
       "      <td>40.7285</td>\n",
       "      <td>-73.9846</td>\n",
       "      <td>B02764</td>\n",
       "      <td>31</td>\n",
       "      <td>3</td>\n",
       "      <td>23</td>\n",
       "    </tr>\n",
       "    <tr>\n",
       "      <th>796117</th>\n",
       "      <td>2014-07-31 23:23:00</td>\n",
       "      <td>40.7615</td>\n",
       "      <td>-73.9868</td>\n",
       "      <td>B02764</td>\n",
       "      <td>31</td>\n",
       "      <td>3</td>\n",
       "      <td>23</td>\n",
       "    </tr>\n",
       "    <tr>\n",
       "      <th>796118</th>\n",
       "      <td>2014-07-31 23:29:00</td>\n",
       "      <td>40.6770</td>\n",
       "      <td>-73.9515</td>\n",
       "      <td>B02764</td>\n",
       "      <td>31</td>\n",
       "      <td>3</td>\n",
       "      <td>23</td>\n",
       "    </tr>\n",
       "    <tr>\n",
       "      <th>796119</th>\n",
       "      <td>2014-07-31 23:30:00</td>\n",
       "      <td>40.7225</td>\n",
       "      <td>-74.0038</td>\n",
       "      <td>B02764</td>\n",
       "      <td>31</td>\n",
       "      <td>3</td>\n",
       "      <td>23</td>\n",
       "    </tr>\n",
       "    <tr>\n",
       "      <th>796120</th>\n",
       "      <td>2014-07-31 23:58:00</td>\n",
       "      <td>40.7199</td>\n",
       "      <td>-73.9884</td>\n",
       "      <td>B02764</td>\n",
       "      <td>31</td>\n",
       "      <td>3</td>\n",
       "      <td>23</td>\n",
       "    </tr>\n",
       "  </tbody>\n",
       "</table>\n",
       "</div>"
      ],
      "text/plain": [
       "                 Date/Time      Lat      Lon    Base  dom  dow  hour\n",
       "796116 2014-07-31 23:22:00  40.7285 -73.9846  B02764   31    3    23\n",
       "796117 2014-07-31 23:23:00  40.7615 -73.9868  B02764   31    3    23\n",
       "796118 2014-07-31 23:29:00  40.6770 -73.9515  B02764   31    3    23\n",
       "796119 2014-07-31 23:30:00  40.7225 -74.0038  B02764   31    3    23\n",
       "796120 2014-07-31 23:58:00  40.7199 -73.9884  B02764   31    3    23"
      ]
     },
     "execution_count": 32,
     "metadata": {},
     "output_type": "execute_result"
    }
   ],
   "source": [
    "data.tail()"
   ]
  },
  {
   "cell_type": "markdown",
   "metadata": {},
   "source": [
    "## some analysis"
   ]
  },
  {
   "cell_type": "markdown",
   "metadata": {},
   "source": [
    "### playing around with date of month"
   ]
  },
  {
   "cell_type": "markdown",
   "metadata": {},
   "source": [
    "#### no of uber rides vs. day of month  "
   ]
  },
  {
   "cell_type": "markdown",
   "metadata": {},
   "source": [
    "##### with hist from matplotlib"
   ]
  },
  {
   "cell_type": "code",
   "execution_count": 72,
   "metadata": {},
   "outputs": [
    {
     "data": {
      "text/plain": [
       "Text(0.5,1,'Frequency by DoM - uber - Jul 2014')"
      ]
     },
     "execution_count": 72,
     "metadata": {},
     "output_type": "execute_result"
    },
    {
     "data": {
      "image/png": "[encoded data removed]",
      "text/plain": [
       "<Figure size 432x288 with 1 Axes>"
      ]
     },
     "metadata": {
      "needs_background": "light"
     },
     "output_type": "display_data"
    }
   ],
   "source": [
    "hist(data.dom, bins=31, rwidth=.8, range=(0.5,31.5))\n",
    "xlabel('date of month')\n",
    "ylabel('frequency')\n",
    "title('Frequency by DoM - uber - Jul 2014')"
   ]
  },
  {
   "cell_type": "markdown",
   "metadata": {},
   "source": [
    "##### 2nd method"
   ]
  },
  {
   "cell_type": "code",
   "execution_count": 79,
   "metadata": {},
   "outputs": [
    {
     "name": "stdout",
     "output_type": "stream",
     "text": [
      "(1, 21228)\n",
      "(2, 26480)\n",
      "(3, 21597)\n",
      "(4, 14148)\n",
      "(5, 10890)\n",
      "(6, 11443)\n",
      "(7, 18280)\n",
      "(8, 25763)\n",
      "(9, 27817)\n",
      "(10, 30541)\n",
      "(11, 28752)\n",
      "(12, 25936)\n",
      "(13, 21082)\n",
      "(14, 27350)\n",
      "(15, 33845)\n",
      "(16, 28607)\n",
      "(17, 30710)\n",
      "(18, 29860)\n",
      "(19, 25726)\n",
      "(20, 21212)\n",
      "(21, 23578)\n",
      "(22, 29029)\n",
      "(23, 34073)\n",
      "(24, 32050)\n",
      "(25, 29975)\n",
      "(26, 27708)\n",
      "(27, 22590)\n",
      "(28, 23981)\n",
      "(29, 27589)\n",
      "(30, 30740)\n",
      "(31, 33541)\n"
     ]
    }
   ],
   "source": [
    "for dayOfMonth, rides in data.groupby('dom'):\n",
    "    print(dayOfMonth,len(rides))"
   ]
  },
  {
   "cell_type": "markdown",
   "metadata": {},
   "source": [
    "##### 3rd Method (with more flexibility)"
   ]
  },
  {
   "cell_type": "code",
   "execution_count": 83,
   "metadata": {},
   "outputs": [
    {
     "data": {
      "text/plain": [
       "dom\n",
       "1     21228\n",
       "2     26480\n",
       "3     21597\n",
       "4     14148\n",
       "5     10890\n",
       "6     11443\n",
       "7     18280\n",
       "8     25763\n",
       "9     27817\n",
       "10    30541\n",
       "11    28752\n",
       "12    25936\n",
       "13    21082\n",
       "14    27350\n",
       "15    33845\n",
       "16    28607\n",
       "17    30710\n",
       "18    29860\n",
       "19    25726\n",
       "20    21212\n",
       "21    23578\n",
       "22    29029\n",
       "23    34073\n",
       "24    32050\n",
       "25    29975\n",
       "26    27708\n",
       "27    22590\n",
       "28    23981\n",
       "29    27589\n",
       "30    30740\n",
       "31    33541\n",
       "dtype: int64"
      ]
     },
     "execution_count": 83,
     "metadata": {},
     "output_type": "execute_result"
    }
   ],
   "source": [
    "def count_rows(rows):\n",
    "    return len(rows)\n",
    "\n",
    "by_date = data.groupby('dom').apply(count_rows)\n",
    "by_date"
   ]
  },
  {
   "cell_type": "code",
   "execution_count": 84,
   "metadata": {},
   "outputs": [
    {
     "data": {
      "text/plain": [
       "[<matplotlib.lines.Line2D at 0x7f1ccaa27990>]"
      ]
     },
     "execution_count": 84,
     "metadata": {},
     "output_type": "execute_result"
    },
    {
     "data": {
      "image/png": "[encoded data removed]",
      "text/plain": [
       "<Figure size 432x288 with 1 Axes>"
      ]
     },
     "metadata": {
      "needs_background": "light"
     },
     "output_type": "display_data"
    }
   ],
   "source": [
    "plot(by_date)"
   ]
  },
  {
   "cell_type": "code",
   "execution_count": 90,
   "metadata": {},
   "outputs": [
    {
     "data": {
      "text/plain": [
       "<BarContainer object of 31 artists>"
      ]
     },
     "execution_count": 90,
     "metadata": {},
     "output_type": "execute_result"
    },
    {
     "data": {
      "image/png": "[encoded data removed]",
      "text/plain": [
       "<Figure size 432x288 with 1 Axes>"
      ]
     },
     "metadata": {
      "needs_background": "light"
     },
     "output_type": "display_data"
    }
   ],
   "source": [
    "bar(range(1,32),by_date)"
   ]
  },
  {
   "cell_type": "code",
   "execution_count": 93,
   "metadata": {},
   "outputs": [
    {
     "data": {
      "text/plain": [
       "dom\n",
       "5     10890\n",
       "6     11443\n",
       "4     14148\n",
       "7     18280\n",
       "13    21082\n",
       "20    21212\n",
       "1     21228\n",
       "3     21597\n",
       "27    22590\n",
       "21    23578\n",
       "28    23981\n",
       "19    25726\n",
       "8     25763\n",
       "12    25936\n",
       "2     26480\n",
       "14    27350\n",
       "29    27589\n",
       "26    27708\n",
       "9     27817\n",
       "16    28607\n",
       "11    28752\n",
       "22    29029\n",
       "18    29860\n",
       "25    29975\n",
       "10    30541\n",
       "17    30710\n",
       "30    30740\n",
       "24    32050\n",
       "31    33541\n",
       "15    33845\n",
       "23    34073\n",
       "dtype: int64"
      ]
     },
     "execution_count": 93,
     "metadata": {},
     "output_type": "execute_result"
    }
   ],
   "source": [
    "by_date_sorted = by_date.sort_values()\n",
    "by_date_sorted"
   ]
  },
  {
   "cell_type": "code",
   "execution_count": 97,
   "metadata": {},
   "outputs": [
    {
     "data": {
      "text/plain": [
       "Text(0.5,1,'Frequency by DoM - uber - Jul 2014')"
      ]
     },
     "execution_count": 97,
     "metadata": {},
     "output_type": "execute_result"
    },
    {
     "data": {
      "image/png": "[encoded data removed]",
      "text/plain": [
       "<Figure size 432x288 with 1 Axes>"
      ]
     },
     "metadata": {
      "needs_background": "light"
     },
     "output_type": "display_data"
    }
   ],
   "source": [
    "bar(range(1,32),by_date_sorted)\n",
    "xticks(range(1,32), by_date_sorted.index)\n",
    "xlabel('date of the month')\n",
    "ylabel('frequency')\n",
    "title('Frequency by DoM - uber - Jul 2014')"
   ]
  },
  {
   "cell_type": "markdown",
   "metadata": {},
   "source": [
    "### playing around with the hour"
   ]
  },
  {
   "cell_type": "code",
   "execution_count": 115,
   "metadata": {},
   "outputs": [
    {
     "data": {
      "text/plain": [
       "Text(0.5,1,'Frequency by Hour - uber - Jul 2014')"
      ]
     },
     "execution_count": 115,
     "metadata": {},
     "output_type": "execute_result"
    },
    {
     "data": {
      "image/png": "[encoded data removed]",
      "text/plain": [
       "<Figure size 432x288 with 1 Axes>"
      ]
     },
     "metadata": {
      "needs_background": "light"
     },
     "output_type": "display_data"
    }
   ],
   "source": [
    "hist(data.hour,rwidth=0.8, bins = 24, range = (-0.5,23.5))\n",
    "xlabel('Hour')\n",
    "ylabel('Frequency')\n",
    "title('Frequency by Hour - uber - Jul 2014')"
   ]
  },
  {
   "cell_type": "code",
   "execution_count": 107,
   "metadata": {},
   "outputs": [
    {
     "data": {
      "text/plain": [
       "hour\n",
       "0     17953\n",
       "1     11527\n",
       "2      8562\n",
       "3      9199\n",
       "4     10040\n",
       "5     14932\n",
       "6     23456\n",
       "7     32545\n",
       "8     33387\n",
       "9     28486\n",
       "10    28558\n",
       "11    30120\n",
       "12    30900\n",
       "13    35832\n",
       "14    41357\n",
       "15    46053\n",
       "16    52403\n",
       "17    58260\n",
       "18    57268\n",
       "19    52332\n",
       "20    51859\n",
       "21    49528\n",
       "22    42218\n",
       "23    29346\n",
       "dtype: int64"
      ]
     },
     "execution_count": 107,
     "metadata": {},
     "output_type": "execute_result"
    }
   ],
   "source": [
    "by_hour = data.groupby('hour').apply(count_rows)\n",
    "by_hour"
   ]
  },
  {
   "cell_type": "markdown",
   "metadata": {},
   "source": [
    "#### flexible method"
   ]
  },
  {
   "cell_type": "code",
   "execution_count": 118,
   "metadata": {},
   "outputs": [
    {
     "data": {
      "text/plain": [
       "<BarContainer object of 24 artists>"
      ]
     },
     "execution_count": 118,
     "metadata": {},
     "output_type": "execute_result"
    },
    {
     "data": {
      "image/png": "[encoded data removed]",
      "text/plain": [
       "<Figure size 432x288 with 1 Axes>"
      ]
     },
     "metadata": {
      "needs_background": "light"
     },
     "output_type": "display_data"
    }
   ],
   "source": [
    "bar(by_hour.index,by_hour)"
   ]
  },
  {
   "cell_type": "code",
   "execution_count": 125,
   "metadata": {},
   "outputs": [
    {
     "data": {
      "text/plain": [
       "hour\n",
       "2      8562\n",
       "3      9199\n",
       "4     10040\n",
       "1     11527\n",
       "5     14932\n",
       "0     17953\n",
       "6     23456\n",
       "9     28486\n",
       "10    28558\n",
       "23    29346\n",
       "11    30120\n",
       "12    30900\n",
       "7     32545\n",
       "8     33387\n",
       "13    35832\n",
       "14    41357\n",
       "22    42218\n",
       "15    46053\n",
       "21    49528\n",
       "20    51859\n",
       "19    52332\n",
       "16    52403\n",
       "18    57268\n",
       "17    58260\n",
       "dtype: int64"
      ]
     },
     "execution_count": 125,
     "metadata": {},
     "output_type": "execute_result"
    }
   ],
   "source": [
    "by_hour_sorted = by_hour.sort_values()\n",
    "by_hour_sorted"
   ]
  },
  {
   "cell_type": "code",
   "execution_count": 135,
   "metadata": {},
   "outputs": [
    {
     "data": {
      "text/plain": [
       "([<matplotlib.axis.XTick at 0x7f1cc83aa410>,\n",
       "  <matplotlib.axis.XTick at 0x7f1cc8393190>,\n",
       "  <matplotlib.axis.XTick at 0x7f1cc8393c50>,\n",
       "  <matplotlib.axis.XTick at 0x7f1cc845d6d0>,\n",
       "  <matplotlib.axis.XTick at 0x7f1cc845da90>,\n",
       "  <matplotlib.axis.XTick at 0x7f1cc8453050>,\n",
       "  <matplotlib.axis.XTick at 0x7f1cc84535d0>,\n",
       "  <matplotlib.axis.XTick at 0x7f1cc8453b50>,\n",
       "  <matplotlib.axis.XTick at 0x7f1cc8460110>,\n",
       "  <matplotlib.axis.XTick at 0x7f1cc8460690>,\n",
       "  <matplotlib.axis.XTick at 0x7f1cc8460c10>,\n",
       "  <matplotlib.axis.XTick at 0x7f1cc846e1d0>,\n",
       "  <matplotlib.axis.XTick at 0x7f1cc846e750>,\n",
       "  <matplotlib.axis.XTick at 0x7f1cc8460790>,\n",
       "  <matplotlib.axis.XTick at 0x7f1cc8453250>,\n",
       "  <matplotlib.axis.XTick at 0x7f1cc846eb50>,\n",
       "  <matplotlib.axis.XTick at 0x7f1cc847e110>,\n",
       "  <matplotlib.axis.XTick at 0x7f1cc847e690>,\n",
       "  <matplotlib.axis.XTick at 0x7f1cc847ec10>,\n",
       "  <matplotlib.axis.XTick at 0x7f1cc848b1d0>,\n",
       "  <matplotlib.axis.XTick at 0x7f1cc848b750>,\n",
       "  <matplotlib.axis.XTick at 0x7f1cc848bcd0>,\n",
       "  <matplotlib.axis.XTick at 0x7f1cc8416290>,\n",
       "  <matplotlib.axis.XTick at 0x7f1cc847ee10>],\n",
       " <a list of 24 Text xticklabel objects>)"
      ]
     },
     "execution_count": 135,
     "metadata": {},
     "output_type": "execute_result"
    },
    {
     "data": {
      "image/png": "[encoded data removed]",
      "text/plain": [
       "<Figure size 432x288 with 1 Axes>"
      ]
     },
     "metadata": {
      "needs_background": "light"
     },
     "output_type": "display_data"
    }
   ],
   "source": [
    "bar(range(0,24),by_hour_sorted, color='green')\n",
    "xticks(range(0,24),by_hour_sorted.index)"
   ]
  },
  {
   "cell_type": "markdown",
   "metadata": {},
   "source": [
    "### playing aroud with the weekday"
   ]
  },
  {
   "cell_type": "code",
   "execution_count": 157,
   "metadata": {},
   "outputs": [
    {
     "data": {
      "text/plain": [
       "([<matplotlib.axis.XTick at 0x7f1cc48d87d0>,\n",
       "  <matplotlib.axis.XTick at 0x7f1cc48d8290>,\n",
       "  <matplotlib.axis.XTick at 0x7f1cc8533250>,\n",
       "  <matplotlib.axis.XTick at 0x7f1cc490ced0>,\n",
       "  <matplotlib.axis.XTick at 0x7f1cc4899450>,\n",
       "  <matplotlib.axis.XTick at 0x7f1cc4899990>,\n",
       "  <matplotlib.axis.XTick at 0x7f1cc4899ed0>],\n",
       " <a list of 7 Text xticklabel objects>)"
      ]
     },
     "execution_count": 157,
     "metadata": {},
     "output_type": "execute_result"
    },
    {
     "data": {
      "image/png": "[encoded data removed]",
      "text/plain": [
       "<Figure size 432x288 with 1 Axes>"
      ]
     },
     "metadata": {
      "needs_background": "light"
     },
     "output_type": "display_data"
    }
   ],
   "source": [
    "hist(data.dow, rwidth=0.8, range=(-0.5,6.5), bins=7, color='red',alpha=0.5)\n",
    "xticks(range(0,7), 'Mon Tue Wed Thu Fri Sat Sun'.split())"
   ]
  },
  {
   "cell_type": "markdown",
   "metadata": {},
   "source": [
    "### cross analysis with hour and weekday"
   ]
  },
  {
   "cell_type": "code",
   "execution_count": 163,
   "metadata": {},
   "outputs": [
    {
     "data": {
      "text/plain": [
       "hour  dow\n",
       "0     0       1260\n",
       "      1       1509\n",
       "      2       1773\n",
       "      3       2150\n",
       "      4       2460\n",
       "      5       4441\n",
       "      6       4360\n",
       "1     0        613\n",
       "      1        779\n",
       "      2        966\n",
       "      3       1157\n",
       "      4       1541\n",
       "      5       3153\n",
       "      6       3318\n",
       "2     0        439\n",
       "      1        556\n",
       "      2        780\n",
       "      3        855\n",
       "      4       1059\n",
       "      5       2320\n",
       "      6       2553\n",
       "3     0       1019\n",
       "      1        935\n",
       "      2       1120\n",
       "      3       1283\n",
       "      4       1230\n",
       "      5       1704\n",
       "      6       1908\n",
       "4     0       1615\n",
       "      1       1483\n",
       "             ...  \n",
       "19    5       4913\n",
       "      6       3700\n",
       "20    0       6303\n",
       "      1       9781\n",
       "      2      10491\n",
       "      3      10177\n",
       "      4       5699\n",
       "      5       5396\n",
       "      6       4012\n",
       "21    0       5640\n",
       "      1       8297\n",
       "      2       9751\n",
       "      3       9545\n",
       "      4       6654\n",
       "      5       5901\n",
       "      6       3740\n",
       "22    0       3828\n",
       "      1       5806\n",
       "      2       7275\n",
       "      3       8578\n",
       "      4       7103\n",
       "      5       6337\n",
       "      6       3291\n",
       "23    0       2266\n",
       "      1       3323\n",
       "      2       4126\n",
       "      3       5756\n",
       "      4       6077\n",
       "      5       5600\n",
       "      6       2198\n",
       "Length: 168, dtype: int64"
      ]
     },
     "execution_count": 163,
     "metadata": {},
     "output_type": "execute_result"
    }
   ],
   "source": [
    "data.groupby('hour dow'.split()).apply(count_rows)"
   ]
  },
  {
   "cell_type": "code",
   "execution_count": 169,
   "metadata": {},
   "outputs": [
    {
     "data": {
      "text/html": [
       "<div>\n",
       "<style scoped>\n",
       "    .dataframe tbody tr th:only-of-type {\n",
       "        vertical-align: middle;\n",
       "    }\n",
       "\n",
       "    .dataframe tbody tr th {\n",
       "        vertical-align: top;\n",
       "    }\n",
       "\n",
       "    .dataframe thead th {\n",
       "        text-align: right;\n",
       "    }\n",
       "</style>\n",
       "<table border=\"1\" class=\"dataframe\">\n",
       "  <thead>\n",
       "    <tr style=\"text-align: right;\">\n",
       "      <th>hour</th>\n",
       "      <th>0</th>\n",
       "      <th>1</th>\n",
       "      <th>2</th>\n",
       "      <th>3</th>\n",
       "      <th>4</th>\n",
       "      <th>5</th>\n",
       "      <th>6</th>\n",
       "      <th>7</th>\n",
       "      <th>8</th>\n",
       "      <th>9</th>\n",
       "      <th>...</th>\n",
       "      <th>14</th>\n",
       "      <th>15</th>\n",
       "      <th>16</th>\n",
       "      <th>17</th>\n",
       "      <th>18</th>\n",
       "      <th>19</th>\n",
       "      <th>20</th>\n",
       "      <th>21</th>\n",
       "      <th>22</th>\n",
       "      <th>23</th>\n",
       "    </tr>\n",
       "    <tr>\n",
       "      <th>dow</th>\n",
       "      <th></th>\n",
       "      <th></th>\n",
       "      <th></th>\n",
       "      <th></th>\n",
       "      <th></th>\n",
       "      <th></th>\n",
       "      <th></th>\n",
       "      <th></th>\n",
       "      <th></th>\n",
       "      <th></th>\n",
       "      <th></th>\n",
       "      <th></th>\n",
       "      <th></th>\n",
       "      <th></th>\n",
       "      <th></th>\n",
       "      <th></th>\n",
       "      <th></th>\n",
       "      <th></th>\n",
       "      <th></th>\n",
       "      <th></th>\n",
       "      <th></th>\n",
       "    </tr>\n",
       "  </thead>\n",
       "  <tbody>\n",
       "    <tr>\n",
       "      <th>0</th>\n",
       "      <td>1260</td>\n",
       "      <td>613</td>\n",
       "      <td>439</td>\n",
       "      <td>1019</td>\n",
       "      <td>1615</td>\n",
       "      <td>2461</td>\n",
       "      <td>3644</td>\n",
       "      <td>5066</td>\n",
       "      <td>4797</td>\n",
       "      <td>3692</td>\n",
       "      <td>...</td>\n",
       "      <td>4604</td>\n",
       "      <td>5057</td>\n",
       "      <td>6283</td>\n",
       "      <td>7328</td>\n",
       "      <td>6551</td>\n",
       "      <td>6378</td>\n",
       "      <td>6303</td>\n",
       "      <td>5640</td>\n",
       "      <td>3828</td>\n",
       "      <td>2266</td>\n",
       "    </tr>\n",
       "    <tr>\n",
       "      <th>1</th>\n",
       "      <td>1509</td>\n",
       "      <td>779</td>\n",
       "      <td>556</td>\n",
       "      <td>935</td>\n",
       "      <td>1483</td>\n",
       "      <td>2730</td>\n",
       "      <td>4811</td>\n",
       "      <td>6750</td>\n",
       "      <td>6662</td>\n",
       "      <td>5061</td>\n",
       "      <td>...</td>\n",
       "      <td>7551</td>\n",
       "      <td>7951</td>\n",
       "      <td>9219</td>\n",
       "      <td>11712</td>\n",
       "      <td>10992</td>\n",
       "      <td>9983</td>\n",
       "      <td>9781</td>\n",
       "      <td>8297</td>\n",
       "      <td>5806</td>\n",
       "      <td>3323</td>\n",
       "    </tr>\n",
       "    <tr>\n",
       "      <th>2</th>\n",
       "      <td>1773</td>\n",
       "      <td>966</td>\n",
       "      <td>780</td>\n",
       "      <td>1120</td>\n",
       "      <td>1630</td>\n",
       "      <td>2799</td>\n",
       "      <td>5017</td>\n",
       "      <td>7129</td>\n",
       "      <td>7125</td>\n",
       "      <td>5419</td>\n",
       "      <td>...</td>\n",
       "      <td>7229</td>\n",
       "      <td>8719</td>\n",
       "      <td>10421</td>\n",
       "      <td>11669</td>\n",
       "      <td>11739</td>\n",
       "      <td>10563</td>\n",
       "      <td>10491</td>\n",
       "      <td>9751</td>\n",
       "      <td>7275</td>\n",
       "      <td>4126</td>\n",
       "    </tr>\n",
       "    <tr>\n",
       "      <th>3</th>\n",
       "      <td>2150</td>\n",
       "      <td>1157</td>\n",
       "      <td>855</td>\n",
       "      <td>1283</td>\n",
       "      <td>1884</td>\n",
       "      <td>2931</td>\n",
       "      <td>4796</td>\n",
       "      <td>6709</td>\n",
       "      <td>6683</td>\n",
       "      <td>5385</td>\n",
       "      <td>...</td>\n",
       "      <td>7443</td>\n",
       "      <td>8654</td>\n",
       "      <td>9691</td>\n",
       "      <td>10485</td>\n",
       "      <td>11203</td>\n",
       "      <td>10848</td>\n",
       "      <td>10177</td>\n",
       "      <td>9545</td>\n",
       "      <td>8578</td>\n",
       "      <td>5756</td>\n",
       "    </tr>\n",
       "    <tr>\n",
       "      <th>4</th>\n",
       "      <td>2460</td>\n",
       "      <td>1541</td>\n",
       "      <td>1059</td>\n",
       "      <td>1230</td>\n",
       "      <td>1359</td>\n",
       "      <td>1989</td>\n",
       "      <td>2947</td>\n",
       "      <td>4032</td>\n",
       "      <td>4152</td>\n",
       "      <td>3631</td>\n",
       "      <td>...</td>\n",
       "      <td>5457</td>\n",
       "      <td>6031</td>\n",
       "      <td>6440</td>\n",
       "      <td>6657</td>\n",
       "      <td>6682</td>\n",
       "      <td>5947</td>\n",
       "      <td>5699</td>\n",
       "      <td>6654</td>\n",
       "      <td>7103</td>\n",
       "      <td>6077</td>\n",
       "    </tr>\n",
       "    <tr>\n",
       "      <th>5</th>\n",
       "      <td>4441</td>\n",
       "      <td>3153</td>\n",
       "      <td>2320</td>\n",
       "      <td>1704</td>\n",
       "      <td>1087</td>\n",
       "      <td>1097</td>\n",
       "      <td>1214</td>\n",
       "      <td>1594</td>\n",
       "      <td>2101</td>\n",
       "      <td>2668</td>\n",
       "      <td>...</td>\n",
       "      <td>4491</td>\n",
       "      <td>5079</td>\n",
       "      <td>5482</td>\n",
       "      <td>5483</td>\n",
       "      <td>5838</td>\n",
       "      <td>4913</td>\n",
       "      <td>5396</td>\n",
       "      <td>5901</td>\n",
       "      <td>6337</td>\n",
       "      <td>5600</td>\n",
       "    </tr>\n",
       "    <tr>\n",
       "      <th>6</th>\n",
       "      <td>4360</td>\n",
       "      <td>3318</td>\n",
       "      <td>2553</td>\n",
       "      <td>1908</td>\n",
       "      <td>982</td>\n",
       "      <td>925</td>\n",
       "      <td>1027</td>\n",
       "      <td>1265</td>\n",
       "      <td>1867</td>\n",
       "      <td>2630</td>\n",
       "      <td>...</td>\n",
       "      <td>4582</td>\n",
       "      <td>4562</td>\n",
       "      <td>4867</td>\n",
       "      <td>4926</td>\n",
       "      <td>4263</td>\n",
       "      <td>3700</td>\n",
       "      <td>4012</td>\n",
       "      <td>3740</td>\n",
       "      <td>3291</td>\n",
       "      <td>2198</td>\n",
       "    </tr>\n",
       "  </tbody>\n",
       "</table>\n",
       "<p>7 rows × 24 columns</p>\n",
       "</div>"
      ],
      "text/plain": [
       "hour    0     1     2     3     4     5     6     7     8     9   ...    14  \\\n",
       "dow                                                               ...         \n",
       "0     1260   613   439  1019  1615  2461  3644  5066  4797  3692  ...  4604   \n",
       "1     1509   779   556   935  1483  2730  4811  6750  6662  5061  ...  7551   \n",
       "2     1773   966   780  1120  1630  2799  5017  7129  7125  5419  ...  7229   \n",
       "3     2150  1157   855  1283  1884  2931  4796  6709  6683  5385  ...  7443   \n",
       "4     2460  1541  1059  1230  1359  1989  2947  4032  4152  3631  ...  5457   \n",
       "5     4441  3153  2320  1704  1087  1097  1214  1594  2101  2668  ...  4491   \n",
       "6     4360  3318  2553  1908   982   925  1027  1265  1867  2630  ...  4582   \n",
       "\n",
       "hour    15     16     17     18     19     20    21    22    23  \n",
       "dow                                                              \n",
       "0     5057   6283   7328   6551   6378   6303  5640  3828  2266  \n",
       "1     7951   9219  11712  10992   9983   9781  8297  5806  3323  \n",
       "2     8719  10421  11669  11739  10563  10491  9751  7275  4126  \n",
       "3     8654   9691  10485  11203  10848  10177  9545  8578  5756  \n",
       "4     6031   6440   6657   6682   5947   5699  6654  7103  6077  \n",
       "5     5079   5482   5483   5838   4913   5396  5901  6337  5600  \n",
       "6     4562   4867   4926   4263   3700   4012  3740  3291  2198  \n",
       "\n",
       "[7 rows x 24 columns]"
      ]
     },
     "execution_count": 169,
     "metadata": {},
     "output_type": "execute_result"
    }
   ],
   "source": [
    "by_cross = data.groupby('dow hour'.split()).apply(count_rows).unstack()\n",
    "by_cross"
   ]
  },
  {
   "cell_type": "code",
   "execution_count": 172,
   "metadata": {},
   "outputs": [
    {
     "data": {
      "text/plain": [
       "<matplotlib.axes._subplots.AxesSubplot at 0x7f1cc463bbd0>"
      ]
     },
     "execution_count": 172,
     "metadata": {},
     "output_type": "execute_result"
    },
    {
     "data": {
      "image/png": "[encoded data removed]",
      "text/plain": [
       "<Figure size 432x288 with 2 Axes>"
      ]
     },
     "metadata": {
      "needs_background": "light"
     },
     "output_type": "display_data"
    }
   ],
   "source": [
    "seaborn.heatmap(by_cross)"
   ]
  },
  {
   "cell_type": "markdown",
   "metadata": {},
   "source": [
    "## playing around with coordinates"
   ]
  },
  {
   "cell_type": "code",
   "execution_count": 189,
   "metadata": {},
   "outputs": [
    {
     "data": {
      "image/png": "[encoded data removed]",
      "text/plain": [
       "<Figure size 432x288 with 1 Axes>"
      ]
     },
     "metadata": {
      "needs_background": "light"
     },
     "output_type": "display_data"
    }
   ],
   "source": [
    "hist(data['Lon'], bins=100, range=(-74.1,-73.9));\n"
   ]
  },
  {
   "cell_type": "code",
   "execution_count": 190,
   "metadata": {},
   "outputs": [
    {
     "data": {
      "image/png": "[encoded data removed]",
      "text/plain": [
       "<Figure size 432x288 with 1 Axes>"
      ]
     },
     "metadata": {
      "needs_background": "light"
     },
     "output_type": "display_data"
    }
   ],
   "source": [
    "hist(data['Lat'],bins=100, range=(40.5,41.2));"
   ]
  },
  {
   "cell_type": "code",
   "execution_count": 199,
   "metadata": {},
   "outputs": [
    {
     "data": {
      "image/png": "[encoded data removed]",
      "text/plain": [
       "<Figure size 432x288 with 2 Axes>"
      ]
     },
     "metadata": {
      "needs_background": "light"
     },
     "output_type": "display_data"
    }
   ],
   "source": [
    "hist(data['Lon'], bins=100, range=(-74.1,-73.9),color='r',alpha=0.5,label='longitude')\n",
    "grid()\n",
    "legend\n",
    "twiny()\n",
    "hist(data['Lat'],bins=100, range=(40.5,41.2),color='g',alpha=0.5,label='latitude');"
   ]
  },
  {
   "cell_type": "code",
   "execution_count": null,
   "metadata": {},
   "outputs": [],
   "source": []
  }
 ],
 "metadata": {
  "kernelspec": {
   "display_name": "Python 2",
   "language": "python",
   "name": "python2"
  },
  "language_info": {
   "codemirror_mode": {
    "name": "ipython",
    "version": 2
   },
   "file_extension": ".py",
   "mimetype": "text/x-python",
   "name": "python",
   "nbconvert_exporter": "python",
   "pygments_lexer": "ipython2",
   "version": "2.7.16"
  }
 },
 "nbformat": 4,
 "nbformat_minor": 2
}
