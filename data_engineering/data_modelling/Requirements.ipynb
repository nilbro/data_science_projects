{
 "cells": [
  {
   "cell_type": "markdown",
   "metadata": {},
   "source": [
    "## Introduction\n",
    "#### A startup called Sparkify want to analyze the data they have been collecting on songs and user activity on their new music streaming app. The analytics team is particularly interested in understanding what songs users are listening to.\n",
    "\n",
    "### The aim is to create a Postgres Database Schema and ETL pipeline to optimize queries for song play analysis.\n",
    "\n",
    "## Project Description\n",
    "### There are 2 parts to this project\n",
    "\n",
    "1. Model Data\n",
    "2. Build ETL Pipeline\n",
    "\n",
    "### Data Modelling\n",
    "#### PostGres database will be used to model a Star Schema with the Fact and Dimension tables as followed below.\n",
    "\n",
    "### Fact Table\n",
    "* songplays records in log data associated with song plays\n",
    "\n",
    "### Dimension Tables\n",
    "* users in the app\n",
    "* songs in music database\n",
    "* artists in music database\n",
    "* time: timestamps of records in songplays broken down into specific units\n",
    "\n",
    "### ETL Pipeline\n",
    "#### The ETL pipeline would transfer data from files located in two local directories into these tables in Postgres using Python and SQL.\n",
    "\n",
    "## Project Design\n",
    "\n",
    "* Database Design is very optimized because with a few number of tables and doing specific join, we can get the most information and do analysis\n",
    "* ETL Design is also simplified have to read json files and parse accordingly to store the tables into specific columns and proper formatting"
   ]
  },
  {
   "cell_type": "code",
   "execution_count": null,
   "metadata": {},
   "outputs": [],
   "source": []
  },
  {
   "cell_type": "code",
   "execution_count": null,
   "metadata": {},
   "outputs": [],
   "source": []
  }
 ],
 "metadata": {
  "kernelspec": {
   "display_name": "Python 3",
   "language": "python",
   "name": "python3"
  },
  "language_info": {
   "codemirror_mode": {
    "name": "ipython",
    "version": 3
   },
   "file_extension": ".py",
   "mimetype": "text/x-python",
   "name": "python",
   "nbconvert_exporter": "python",
   "pygments_lexer": "ipython3",
   "version": "3.6.9"
  }
 },
 "nbformat": 4,
 "nbformat_minor": 2
}
